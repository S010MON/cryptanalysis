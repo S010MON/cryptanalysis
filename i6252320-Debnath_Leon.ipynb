{
 "cells": [
  {
   "cell_type": "markdown",
   "id": "32461593",
   "metadata": {},
   "source": [
    "# Mid-term Assignment \n",
    "Leon Debnath i6252320\n",
    "\n",
    "## Part 1 - Buffer Overflow\n",
    "Following the process of the first lab, the following steps were taken to gain access to the secret message.\n",
    "\n",
    "### 1.a. Compile\n",
    "The code was compiled without stack protections to allow the buffer overflow to be accessable\n",
    "\n",
    "`$ gcc -fno-stack-protector -z execstack -g assignment.c -o assignment`\n",
    "\n",
    "### 1.b. Disable ASLR\n",
    "Address Space Layout Randomisation was turned off to allow for the memory address to be the same in the debugger as in the compiled code\n",
    "`$ echo 0 | sudo tee /proc/sys/kernel/randomize_va_space`\n",
    "\n",
    "\n",
    "### 1.c. Find Memory Address\n",
    "Run the code in the debugger\n",
    "\n",
    "`$ gdb assignment -tui`\n",
    "\n",
    "`(gbd) run`\n",
    "\n",
    "Set a breakpoint at main\n",
    "\n",
    "`(gdb) break main`\n",
    "\n",
    "Run the code until the breakpoint\n",
    "\n",
    "`(gbd) run`\n",
    "\n",
    "Find the address of the \"print_secret_message\" function\n",
    "\n",
    "`(gbd) info address print_secret_message\n",
    " (gbd) Symbol \"print_secret_message\" is a function at address 0x5555555552db`\n",
    " \n",
    "### 1.d. Modify the Exploit\n",
    "Change the EIP variable to the memory address found above\n",
    "\n",
    "`unsigned long long EIP = 0x5555555552d5;`\n",
    "\n",
    "Edit the buffer size to be 256 bytes plus the 8 Byte header\n",
    "\n",
    "`for(i = 0; i < 264; i++)\n",
    "\tfwrite(&x, 1, 1, stdout);`\n",
    "    \n",
    "Compile exploit.c\n",
    "\n",
    "`$ gcc exploit.c -o exploit`\n",
    "    \n",
    "### 1.e. Execute the exploit\n",
    "Executing the exploit by piping the assignment to the exploit reveals the encrypted secret message \n",
    "`$ ./exploit | ./assignment`\n",
    "\n",
    "`$ Enter the secret passphrase that will decrypt the secret message: OLZLJYLATLZZHNLPZHNYLLHISLULZZLZ`\n",
    "\n"
   ]
  },
  {
   "cell_type": "code",
   "execution_count": null,
   "id": "63b29cf6",
   "metadata": {},
   "outputs": [],
   "source": []
  },
  {
   "cell_type": "markdown",
   "id": "83675466",
   "metadata": {},
   "source": [
    "## 2.a Decryption\n",
    "The encryption is know to be a Ceasar Cypher, a mono-alphabetic encryption with a single shift value for each letter in the alphabet.  Given that all letters are uppercase with no spaces, we can safely assume that white space has been removed and the message is case insensitive.  We can form an ordered alphabet and brute force the encryption with 26 combinations. "
   ]
  },
  {
   "cell_type": "code",
   "execution_count": 3,
   "id": "04d90dd8",
   "metadata": {},
   "outputs": [],
   "source": [
    "letters = ['A','B','C','D','E','F','G','H','I','J','K','L','M','N','O','P','Q','R','S','T','U','V','W','X','Y','Z']\n",
    "alphabet = {}\n",
    "\n",
    "for i in range(len(letters)):\n",
    "    alphabet[letters[i]] = i\n",
    "\n",
    "\n",
    "def get_letter(char: str, rotation: int):\n",
    "    \"\"\"\n",
    "    Swap a letter with a given number of rotations, use of the modulo\n",
    "    operator means that rotations that take the index outside of 25 \n",
    "    will wrap round to the beginning again.\n",
    "    \"\"\"\n",
    "    index = alphabet[char]\n",
    "    index += rotation\n",
    "    return letters[index % len(letters)]\n",
    "\n",
    "\n",
    "def decrypt(in_str: str, rotation: int):\n",
    "    \"\"\"\n",
    "    Decrypt can be used for both encryption and decryption of the \n",
    "    cypher, with a negative rotation encrypting the plaintext as \n",
    "    long as the absolute value is the same.\n",
    "    \"\"\"\n",
    "    out_str = ''\n",
    "    for char in in_str:\n",
    "        out_str += get_letter(char, rotation)\n",
    "        \n",
    "    return out_str"
   ]
  },
  {
   "cell_type": "markdown",
   "id": "69316c65",
   "metadata": {},
   "source": [
    "The brute force approach provides 26 different combinations, which is small enough to manually check."
   ]
  },
  {
   "cell_type": "code",
   "execution_count": 4,
   "id": "f96e2411",
   "metadata": {},
   "outputs": [
    {
     "name": "stdout",
     "output_type": "stream",
     "text": [
      "0: OLZLJYLATLZZHNLPZHNYLLHISLULZZLZ\n",
      "1: PMAMKZMBUMAAIOMQAIOZMMIJTMVMAAMA\n",
      "2: QNBNLANCVNBBJPNRBJPANNJKUNWNBBNB\n",
      "3: ROCOMBODWOCCKQOSCKQBOOKLVOXOCCOC\n",
      "4: SPDPNCPEXPDDLRPTDLRCPPLMWPYPDDPD\n",
      "5: TQEQODQFYQEEMSQUEMSDQQMNXQZQEEQE\n",
      "6: URFRPERGZRFFNTRVFNTERRNOYRARFFRF\n",
      "7: VSGSQFSHASGGOUSWGOUFSSOPZSBSGGSG\n",
      "8: WTHTRGTIBTHHPVTXHPVGTTPQATCTHHTH\n",
      "9: XUIUSHUJCUIIQWUYIQWHUUQRBUDUIIUI\n",
      "10: YVJVTIVKDVJJRXVZJRXIVVRSCVEVJJVJ\n",
      "11: ZWKWUJWLEWKKSYWAKSYJWWSTDWFWKKWK\n",
      "12: AXLXVKXMFXLLTZXBLTZKXXTUEXGXLLXL\n",
      "13: BYMYWLYNGYMMUAYCMUALYYUVFYHYMMYM\n",
      "14: CZNZXMZOHZNNVBZDNVBMZZVWGZIZNNZN\n",
      "15: DAOAYNAPIAOOWCAEOWCNAAWXHAJAOOAO\n",
      "16: EBPBZOBQJBPPXDBFPXDOBBXYIBKBPPBP\n",
      "17: FCQCAPCRKCQQYECGQYEPCCYZJCLCQQCQ\n",
      "18: GDRDBQDSLDRRZFDHRZFQDDZAKDMDRRDR\n",
      "19: HESECRETMESSAGEISAGREEABLENESSES\n",
      "20: IFTFDSFUNFTTBHFJTBHSFFBCMFOFTTFT\n",
      "21: JGUGETGVOGUUCIGKUCITGGCDNGPGUUGU\n",
      "22: KHVHFUHWPHVVDJHLVDJUHHDEOHQHVVHV\n",
      "23: LIWIGVIXQIWWEKIMWEKVIIEFPIRIWWIW\n",
      "24: MJXJHWJYRJXXFLJNXFLWJJFGQJSJXXJX\n",
      "25: NKYKIXKZSKYYGMKOYGMXKKGHRKTKYYKY\n"
     ]
    }
   ],
   "source": [
    "data = 'OLZLJYLATLZZHNLPZHNYLLHISLULZZLZ'\n",
    "\n",
    "outputs = {}\n",
    "\n",
    "for i in range(len(letters)):\n",
    "    outputs[i] = decrypt(data, i)\n",
    "    print(f\"{i}: {outputs[i]}\")"
   ]
  },
  {
   "cell_type": "markdown",
   "id": "ef34e7a9",
   "metadata": {},
   "source": [
    "But if we had a very long string, or perhaps a larger alphabet, this could be quite tedious, so we can use regex to find the decrypt with the most English words.  To do this we need a list of the 1000 most common english words (easy enough to find online) and to import the regex library to find any occurances of:\n",
    "\n",
    "[zero or many] word [zero or many]\n",
    "\n",
    "Each time we find a word in the list, it is added to the total words found for that output."
   ]
  },
  {
   "cell_type": "code",
   "execution_count": 58,
   "id": "3e381135",
   "metadata": {},
   "outputs": [],
   "source": [
    "import re\n",
    "\n",
    "words = []\n",
    "freqs = [0 for i in range(len(outputs))]\n",
    "\n",
    "with open('most_frequent_words.csv') as file:\n",
    "    words = file.read().split('\\n')\n",
    "    \n",
    "for i in range(len(outputs)):\n",
    "    for word in words:\n",
    "        word = word.upper()\n",
    "        pattern = '\\**' + word + '\\**' \n",
    "        if re.findall(pattern, outputs[i]):\n",
    "            freqs[i] = freqs[i] + 1"
   ]
  },
  {
   "cell_type": "markdown",
   "id": "1c7ea136",
   "metadata": {},
   "source": [
    "Once we have the frequencies, the one with the max count is the most likely to be the correct decryption.  In the unlikely case that there is a tie, we can sort and work through in decending order of words found."
   ]
  },
  {
   "cell_type": "code",
   "execution_count": 60,
   "id": "5afb313f",
   "metadata": {},
   "outputs": [
    {
     "name": "stdout",
     "output_type": "stream",
     "text": [
      "OLZLJYLATLZZHNLPZHNYLLHISLULZZLZ 5\n",
      "PMAMKZMBUMAAIOMQAIOZMMIJTMVMAAMA 3\n",
      "QNBNLANCVNBBJPNRBJPANNJKUNWNBBNB 2\n",
      "ROCOMBODWOCCKQOSCKQBOOKLVOXOCCOC 1\n",
      "SPDPNCPEXPDDLRPTDLRCPPLMWPYPDDPD 0\n",
      "TQEQODQFYQEEMSQUEMSDQQMNXQZQEEQE 0\n",
      "URFRPERGZRFFNTRVFNTERRNOYRARFFRF 2\n",
      "VSGSQFSHASGGOUSWGOUFSSOPZSBSGGSG 5\n",
      "WTHTRGTIBTHHPVTXHPVGTTPQATCTHHTH 3\n",
      "XUIUSHUJCUIIQWUYIQWHUUQRBUDUIIUI 2\n",
      "YVJVTIVKDVJJRXVZJRXIVVRSCVEVJJVJ 1\n",
      "ZWKWUJWLEWKKSYWAKSYJWWSTDWFWKKWK 1\n",
      "AXLXVKXMFXLLTZXBLTZKXXTUEXGXLLXL 1\n",
      "BYMYWLYNGYMMUAYCMUALYYUVFYHYMMYM 3\n",
      "CZNZXMZOHZNNVBZDNVBMZZVWGZIZNNZN 2\n",
      "DAOAYNAPIAOOWCAEOWCNAAWXHAJAOOAO 2\n",
      "EBPBZOBQJBPPXDBFPXDOBBXYIBKBPPBP 2\n",
      "FCQCAPCRKCQQYECGQYEPCCYZJCLCQQCQ 1\n",
      "GDRDBQDSLDRRZFDHRZFQDDZAKDMDRRDR 1\n",
      "HESECRETMESSAGEISAGREEABLENESSES 9\n",
      "IFTFDSFUNFTTBHFJTBHSFFBCMFOFTTFT 4\n",
      "JGUGETGVOGUUCIGKUCITGGCDNGPGUUGU 3\n",
      "KHVHFUHWPHVVDJHLVDJUHHDEOHQHVVHV 1\n",
      "LIWIGVIXQIWWEKIMWEKVIIEFPIRIWWIW 2\n",
      "MJXJHWJYRJXXFLJNXFLWJJFGQJSJXXJX 0\n",
      "NKYKIXKZSKYYGMKOYGMXKKGHRKTKYYKY 2\n"
     ]
    }
   ],
   "source": [
    "for i in range(len(freqs)):\n",
    "    print(f\"{outputs[i]} {freqs[i]}\")"
   ]
  },
  {
   "cell_type": "code",
   "execution_count": 54,
   "id": "37d63e04",
   "metadata": {},
   "outputs": [
    {
     "name": "stdout",
     "output_type": "stream",
     "text": [
      "HESECRETMESSAGEISAGREEABLENESSES\n"
     ]
    }
   ],
   "source": [
    "most_likely = freqs.index(max(freqs))\n",
    "print(outputs[most_likely])"
   ]
  }
 ],
 "metadata": {
  "kernelspec": {
   "display_name": "Python 3 (ipykernel)",
   "language": "python",
   "name": "python3"
  },
  "language_info": {
   "codemirror_mode": {
    "name": "ipython",
    "version": 3
   },
   "file_extension": ".py",
   "mimetype": "text/x-python",
   "name": "python",
   "nbconvert_exporter": "python",
   "pygments_lexer": "ipython3",
   "version": "3.10.6"
  }
 },
 "nbformat": 4,
 "nbformat_minor": 5
}
