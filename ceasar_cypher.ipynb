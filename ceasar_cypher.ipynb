{
 "cells": [
  {
   "cell_type": "code",
   "execution_count": 10,
   "id": "c9d890c7",
   "metadata": {},
   "outputs": [],
   "source": [
    "letters = ['A','B','C','D','E','F','G','H','I','J','K','L','M','N','O','P','Q','R','S','T','U','V','W','X','Y','Z']\n",
    "alphabet = {}\n",
    "\n",
    "for i in range(len(letters)):\n",
    "    alphabet[letters[i]] = i\n",
    "\n",
    "\n",
    "def get_letter(char: str, rotation: int):\n",
    "    index = alphabet[char]\n",
    "    index += rotation\n",
    "    return letters[index % len(letters)]\n",
    "\n",
    "\n",
    "def decrypt(in_str: str, rotation: int):\n",
    "    out_str = ''\n",
    "    for char in in_str:\n",
    "        out_str += get_letter(char, rotation)\n",
    "        \n",
    "    return out_str"
   ]
  },
  {
   "cell_type": "code",
   "execution_count": 19,
   "id": "5cb29eb5",
   "metadata": {},
   "outputs": [
    {
     "name": "stdout",
     "output_type": "stream",
     "text": [
      "0: OLZLJYLATLZZHNLPZHNYLLHISLULZZLZ\n",
      "1: PMAMKZMBUMAAIOMQAIOZMMIJTMVMAAMA\n",
      "2: QNBNLANCVNBBJPNRBJPANNJKUNWNBBNB\n",
      "3: ROCOMBODWOCCKQOSCKQBOOKLVOXOCCOC\n",
      "4: SPDPNCPEXPDDLRPTDLRCPPLMWPYPDDPD\n",
      "5: TQEQODQFYQEEMSQUEMSDQQMNXQZQEEQE\n",
      "6: URFRPERGZRFFNTRVFNTERRNOYRARFFRF\n",
      "7: VSGSQFSHASGGOUSWGOUFSSOPZSBSGGSG\n",
      "8: WTHTRGTIBTHHPVTXHPVGTTPQATCTHHTH\n",
      "9: XUIUSHUJCUIIQWUYIQWHUUQRBUDUIIUI\n",
      "10: YVJVTIVKDVJJRXVZJRXIVVRSCVEVJJVJ\n",
      "11: ZWKWUJWLEWKKSYWAKSYJWWSTDWFWKKWK\n",
      "12: AXLXVKXMFXLLTZXBLTZKXXTUEXGXLLXL\n",
      "13: BYMYWLYNGYMMUAYCMUALYYUVFYHYMMYM\n",
      "14: CZNZXMZOHZNNVBZDNVBMZZVWGZIZNNZN\n",
      "15: DAOAYNAPIAOOWCAEOWCNAAWXHAJAOOAO\n",
      "16: EBPBZOBQJBPPXDBFPXDOBBXYIBKBPPBP\n",
      "17: FCQCAPCRKCQQYECGQYEPCCYZJCLCQQCQ\n",
      "18: GDRDBQDSLDRRZFDHRZFQDDZAKDMDRRDR\n",
      "19: HESECRETMESSAGEISAGREEABLENESSES\n",
      "20: IFTFDSFUNFTTBHFJTBHSFFBCMFOFTTFT\n",
      "21: JGUGETGVOGUUCIGKUCITGGCDNGPGUUGU\n",
      "22: KHVHFUHWPHVVDJHLVDJUHHDEOHQHVVHV\n",
      "23: LIWIGVIXQIWWEKIMWEKVIIEFPIRIWWIW\n",
      "24: MJXJHWJYRJXXFLJNXFLWJJFGQJSJXXJX\n",
      "25: NKYKIXKZSKYYGMKOYGMXKKGHRKTKYYKY\n"
     ]
    }
   ],
   "source": [
    "data = 'OLZLJYLATLZZHNLPZHNYLLHISLULZZLZ'\n",
    "\n",
    "outputs = {}\n",
    "\n",
    "for i in range(len(letters)):\n",
    "    outputs[i] = decrypt(data, i)\n",
    "    print(f\"{i}: {outputs[i]}\")"
   ]
  },
  {
   "cell_type": "code",
   "execution_count": 21,
   "id": "7ab37972",
   "metadata": {},
   "outputs": [
    {
     "name": "stdout",
     "output_type": "stream",
     "text": [
      "HESECRETMESSAGEISAGREEABLENESSES\n"
     ]
    }
   ],
   "source": [
    "print(outputs[19])"
   ]
  }
 ],
 "metadata": {
  "kernelspec": {
   "display_name": "Python 3 (ipykernel)",
   "language": "python",
   "name": "python3"
  },
  "language_info": {
   "codemirror_mode": {
    "name": "ipython",
    "version": 3
   },
   "file_extension": ".py",
   "mimetype": "text/x-python",
   "name": "python",
   "nbconvert_exporter": "python",
   "pygments_lexer": "ipython3",
   "version": "3.10.6"
  }
 },
 "nbformat": 4,
 "nbformat_minor": 5
}
